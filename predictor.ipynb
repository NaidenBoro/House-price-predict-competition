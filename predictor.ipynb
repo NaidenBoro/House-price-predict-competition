{
 "cells": [
  {
   "cell_type": "code",
   "execution_count": 260,
   "metadata": {},
   "outputs": [],
   "source": [
    "import pandas as pd\n",
    "import tensorflow as tf\n",
    "import numpy as np\n",
    "from sklearn.preprocessing import OneHotEncoder\n",
    "from tensorflow.keras import layers"
   ]
  },
  {
   "cell_type": "code",
   "execution_count": 261,
   "metadata": {},
   "outputs": [],
   "source": [
    "data = pd.read_csv(\"train.csv\")\n",
    "data.pop('Id')\n",
    "data = data.dropna(subset=['SalePrice'])\n",
    "\n",
    "\n",
    "string_features_columns = data.select_dtypes('object').columns\n",
    "numeric = data.copy()\n",
    "for x in string_features_columns:\n",
    "    numeric.pop(x)\n",
    "\n",
    "categorical = data.select_dtypes('object')"
   ]
  },
  {
   "cell_type": "code",
   "execution_count": 262,
   "metadata": {},
   "outputs": [],
   "source": [
    "enc = OneHotEncoder().fit(categorical)\n",
    "enc.categories_\n",
    "categorical_transformed = pd.DataFrame(enc.transform(categorical).toarray())"
   ]
  },
  {
   "cell_type": "code",
   "execution_count": 263,
   "metadata": {},
   "outputs": [],
   "source": [
    "label = numeric.pop('SalePrice')"
   ]
  },
  {
   "cell_type": "code",
   "execution_count": 264,
   "metadata": {},
   "outputs": [],
   "source": [
    "def min_max_scaling(series):\n",
    "    return (series - series.min()) / (series.max() - series.min())\n",
    "for col in numeric.columns:\n",
    "    numeric[col] = min_max_scaling(numeric[col])"
   ]
  },
  {
   "cell_type": "code",
   "execution_count": 265,
   "metadata": {},
   "outputs": [],
   "source": [
    "features = numeric.join(categorical_transformed).fillna(0)\n",
    "val_f = features.tail(100)\n",
    "\n",
    "val_l = label.tail(100)\n",
    "\n",
    "features = features.head(-100)\n",
    "label = label.head(-100)"
   ]
  },
  {
   "cell_type": "code",
   "execution_count": 266,
   "metadata": {},
   "outputs": [
    {
     "name": "stdout",
     "output_type": "stream",
     "text": [
      "4/4 [==============================] - 0s 1ms/step - loss: 299094944.0000\n",
      "4/4 [==============================] - 0s 1000us/step - loss: 321259552.0000\n",
      "4/4 [==============================] - 0s 2ms/step - loss: 416821440.0000\n",
      "4/4 [==============================] - 0s 1ms/step - loss: 295777504.0000\n",
      "4/4 [==============================] - 0s 1ms/step - loss: 294953088.0000\n",
      "4/4 [==============================] - 0s 1ms/step - loss: 310130016.0000\n",
      "4/4 [==============================] - 0s 1ms/step - loss: 405132864.0000\n",
      "4/4 [==============================] - 0s 1ms/step - loss: 473605088.0000\n",
      "4/4 [==============================] - 0s 1ms/step - loss: 296793856.0000\n",
      "4/4 [==============================] - 0s 1ms/step - loss: 335195104.0000\n",
      "4/4 [==============================] - 0s 1ms/step - loss: 329947584.0000\n",
      "4/4 [==============================] - 0s 1ms/step - loss: 336712896.0000\n",
      "4/4 [==============================] - 0s 1ms/step - loss: 415778656.0000\n",
      "4/4 [==============================] - 0s 1ms/step - loss: 277960000.0000\n"
     ]
    }
   ],
   "source": [
    "x=0.0\n",
    "while x>288874336.0 or x==0.0:\n",
    "    model = tf.keras.Sequential([\n",
    "            layers.Dense(144),\n",
    "            tf.keras.layers.Dropout(0.2),\n",
    "\n",
    "            layers.Dense(256),\n",
    "            tf.keras.layers.Dropout(0.2),\n",
    "            \n",
    "            layers.Dense(144),\n",
    "            tf.keras.layers.Dropout(0.1),\n",
    "            \n",
    "            layers.Dense(10),\n",
    "            tf.keras.layers.Dropout(0.2),\n",
    "\n",
    "            layers.Dense(1)\n",
    "        ])\n",
    "    model.compile(loss = tf.keras.losses.MeanSquaredError(),\n",
    "                        optimizer = tf.optimizers.Adam())\n",
    "\n",
    "    model.fit(x=features,y=label, epochs=768,verbose=0)\n",
    "    x = model.evaluate(x=val_f,y=val_l)"
   ]
  },
  {
   "cell_type": "code",
   "execution_count": 267,
   "metadata": {},
   "outputs": [],
   "source": [
    "\n",
    "data = pd.read_csv(\"test.csv\")\n",
    "ids = data.pop('Id')\n"
   ]
  },
  {
   "cell_type": "code",
   "execution_count": 268,
   "metadata": {},
   "outputs": [],
   "source": [
    "string_features_columns = data.select_dtypes('object').columns\n",
    "numeric = data.copy()\n",
    "for x in string_features_columns:\n",
    "    numeric.pop(x)\n",
    "\n",
    "categorical = data.select_dtypes('object')\n",
    "\n",
    "enc = OneHotEncoder().fit(categorical)\n",
    "enc.categories_\n",
    "categorical_transformed = pd.DataFrame(enc.transform(categorical).toarray())\n",
    "\n",
    "def min_max_scaling(series):\n",
    "    return (series - series.min()) / (series.max() - series.min())\n",
    "for col in numeric.columns:\n",
    "    numeric[col] = min_max_scaling(numeric[col])\n",
    "\n",
    "features = numeric.join(categorical_transformed).fillna(0)\n",
    "\n",
    "preds = model.predict(features)"
   ]
  },
  {
   "cell_type": "code",
   "execution_count": 269,
   "metadata": {},
   "outputs": [],
   "source": [
    "preds = preds.flatten()"
   ]
  },
  {
   "cell_type": "code",
   "execution_count": 270,
   "metadata": {},
   "outputs": [],
   "source": [
    "submission = pd.concat([ids,pd.Series(preds,name=\"SalePrice\")],axis=1)\n",
    "submission.to_csv(\"./submission.csv\",index=False,header=True)"
   ]
  }
 ],
 "metadata": {
  "interpreter": {
   "hash": "5a56fcd99c2240a11ee89fc10a0741845a4cdb1dbaa002f62254ea1a9cdb923c"
  },
  "kernelspec": {
   "display_name": "Python 3.10.4 64-bit",
   "language": "python",
   "name": "python3"
  },
  "language_info": {
   "codemirror_mode": {
    "name": "ipython",
    "version": 3
   },
   "file_extension": ".py",
   "mimetype": "text/x-python",
   "name": "python",
   "nbconvert_exporter": "python",
   "pygments_lexer": "ipython3",
   "version": "3.10.4"
  },
  "orig_nbformat": 4
 },
 "nbformat": 4,
 "nbformat_minor": 2
}
